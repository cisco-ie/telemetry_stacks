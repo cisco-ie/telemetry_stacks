{
 "cells": [
  {
   "cell_type": "code",
   "execution_count": 11,
   "metadata": {
    "collapsed": true
   },
   "outputs": [],
   "source": [
    "import sys\n",
    "import os\n",
    "\n",
    "#sys.path.insert(0, '/opt/cloudera/parcels/CDH/lib/spark/python/')\n",
    "#sys.path.insert(0, '/opt/cloudera/parcels/CDH/lib/spark/python/lib/py4j-0.9-src.zip')\n",
    "\n",
    "os.environ[\"JAVA_HOME\"] = \"/usr/lib/jvm/java-8-oracle/jre\"\n",
    "os.environ[\"SPARK_HOME\"] = \"/opt/cloudera/parcels/CDH/lib/spark\"\n",
    "os.environ[\"PYLIB\"] = os.environ[\"SPARK_HOME\"] + \"/python/lib\"\n",
    "os.environ[\"PYSPARK_PYTHON\"] = \"/opt/cloudera/parcels/Anaconda/bin/python\"\n",
    "\n",
    "sys.path.insert(0, os.environ[\"PYLIB\"] +\"/py4j-0.9-src.zip\")\n",
    "sys.path.insert(0, os.environ[\"PYLIB\"] +\"/pyspark.zip\")"
   ]
  },
  {
   "cell_type": "code",
   "execution_count": 12,
   "metadata": {
    "collapsed": true
   },
   "outputs": [],
   "source": [
    "from pyspark.sql import SQLContext\n",
    "from pyspark import SparkContext\n",
    "from pyspark.streaming import StreamingContext\n",
    "from pyspark.streaming.kafka import KafkaUtils\n",
    "from pyspark.sql.functions import explode\n",
    "from __future__ import print_function\n",
    "from pyspark.sql.types import *\n",
    "import requests\n",
    "import json\n",
    "import numbers\n",
    "import ast\n",
    "import time\n",
    "from collections import OrderedDict\n",
    "sc = SparkContext('local', 'test-spark0')\n",
    "ssc = StreamingContext(sc, 1)\n",
    "kafkaParams = {\"metadata.broker.list\": \"pnda14.gspie.lab:9092,pnda15.gspie.lab:9092,pnda13.gspie.lab:9092\", \"auto.offset.reset\": \"largest\"}\n",
    "topic = \"telemetryxe\"\n",
    "sqlContext = SQLContext(sc)\n",
    "\n",
    "kafkaStream = KafkaUtils.createDirectStream(ssc,[topic],kafkaParams)\n",
    "\n",
    "#kafka_rdd = kafkaStream.map(lambda (k,v): v)\n",
    "kafka_rdd = kafkaStream.map(lambda v: v[1])"
   ]
  },
  {
   "cell_type": "code",
   "execution_count": 13,
   "metadata": {
    "collapsed": true
   },
   "outputs": [],
   "source": [
    "def transform(rdd):\n",
    "    json_data = sqlContext.read.json(rdd)\n",
    "    # NX Data comes out weird, need to convert (Single Quotes instead of double quote issues)\n",
    "    for row in json_data.collect():\n",
    "        data = row.asDict()\n",
    "        timestamp = data['eventTime']\n",
    "        epoch = time_converter(timestamp)\n",
    "        content = data['push-update'].asDict()\n",
    "        tags_master = {\n",
    "            'NodeID' : 'c0-iosxe',\n",
    "            'Subscription' : content['subscription-id']\n",
    "            }\n",
    "        metrics = {\n",
    "                    \"metric\": 'metric',\n",
    "                    \"timestamp\": 'timestamp',\n",
    "                    \"value\": 'value',\n",
    "                    \"tags\": 'tags'\n",
    "                }\n",
    "        metrics['timestamp'] = epoch\n",
    "        content_data = content['datastore-contents-xml'].asDict()\n",
    "        if 'interfaces-state' in content_data and content_data['interfaces-state']:\n",
    "            interfaces = content_data['interfaces-state'].asDict()\n",
    "            for interface in interfaces['interface']:\n",
    "                result = interface_load(interface.asDict(), tags_master, metrics)\n",
    "                tsdb_api_put(json.loads(result))\n",
    "        if 'cpu_usage' in content_data and content_data['cpu_usage']:\n",
    "            cpu = content_data['cpu-usage'].asDict()\n",
    "            result = cpu_load(cpu, tags_master, metrics)\n",
    "            tsdb_api_put(json.loads(result))\n",
    "        if 'bgp-state-data' in content_data and content_data['bgp-state-data']:\n",
    "            bgp = content_data['bgp-state-data'].asDict()\n",
    "            result = bgp_load(bgp, tags_master, metrics)\n",
    "            tsdb_api_put(json.loads(result))\n",
    "    return"
   ]
  },
  {
   "cell_type": "code",
   "execution_count": 14,
   "metadata": {
    "collapsed": true
   },
   "outputs": [],
   "source": [
    "def time_converter(timestamp):\n",
    "    from datetime import datetime\n",
    "    utc_time = datetime.strptime(timestamp, \"%Y-%m-%dT%H:%M:%S.%fZ\")\n",
    "    epoch_time = (utc_time - datetime(1970, 1, 1)).total_seconds()\n",
    "    return epoch_time       "
   ]
  },
  {
   "cell_type": "code",
   "execution_count": 15,
   "metadata": {
    "collapsed": true
   },
   "outputs": [],
   "source": [
    "def bgp_load(bgp, tags_master, metrics):\n",
    "    bgp_info = bgp['neighbors'].asDict()['address-families'].asDict()['address-family'].asDict()\n",
    "    prefixes = bgp_info['prefixes'].asDict()\n",
    "    paths = bgp_info['path'].asDict()\n",
    "    tsdb = []\n",
    "    tags = tags_master.copy()\n",
    "    metrics_copy = metrics.copy()\n",
    "    metrics_copy['metric'] = 'path'\n",
    "    metrics_copy['value'] = paths['total-entries']\n",
    "    metrics_copy['tags'] = tags\n",
    "    tsdb.append(metrics_copy)\n",
    "    metrics_copy2 = metrics.copy()\n",
    "    metrics_copy2['metric'] = 'total_prefixes'\n",
    "    metrics_copy2['value'] = prefixes['total-entries']\n",
    "    metrics_copy2['tags'] = tags\n",
    "    tsdb.append(metrics_copy2)\n",
    "    return json.dumps(tsdb)\n"
   ]
  },
  {
   "cell_type": "code",
   "execution_count": 16,
   "metadata": {
    "collapsed": true
   },
   "outputs": [],
   "source": [
    "def cpu_load(cpu, tags_master, metrics):\n",
    "    tsdb = []\n",
    "    tags = tags_master.copy()\n",
    "    for metric in cpu.keys():\n",
    "        metrics_copy = metrics.copy()\n",
    "        metrics_copy['metric'] = metric\n",
    "        metrics_copy['value'] = cpu[metric]\n",
    "        metrics_copy['tags'] = tags\n",
    "        tsdb.append(metrics_copy)\n",
    "    return json.dumps(tsdb)"
   ]
  },
  {
   "cell_type": "code",
   "execution_count": 17,
   "metadata": {
    "collapsed": true
   },
   "outputs": [],
   "source": [
    "def interface_load(interface, tags_master, metrics):\n",
    "    tsdb = []\n",
    "    tags = tags_master.copy()\n",
    "    if interface['name'] == 'Control Plane':\n",
    "        interface['name'] = 'Control_Plane'\n",
    "    tags['interface_name'] = interface['name']\n",
    "    stats = interface['statistics'].asDict()\n",
    "    for metric in stats.keys():\n",
    "        if not metric == 'discontinuity-time':\n",
    "            metrics_copy = metrics.copy()\n",
    "            metrics_copy['metric'] = metric\n",
    "            metrics_copy['value'] = stats[metric]\n",
    "            metrics_copy['tags'] = tags\n",
    "            tsdb.append(metrics_copy)\n",
    "    return json.dumps(tsdb)"
   ]
  },
  {
   "cell_type": "code",
   "execution_count": 18,
   "metadata": {
    "collapsed": true
   },
   "outputs": [],
   "source": [
    "def tsdb_api_put(data):\n",
    "    if data:\n",
    "        host = 'gspie-opentsdb.cisco.com:4242'\n",
    "        openTsdbUrl = 'http://' + host + '/api/put/details'\n",
    "        request = requests.post(openTsdbUrl, json = data)\n",
    "        if request.text:\n",
    "            print(request.text)"
   ]
  },
  {
   "cell_type": "code",
   "execution_count": 19,
   "metadata": {
    "collapsed": true
   },
   "outputs": [],
   "source": [
    "kafka_rdd.foreachRDD(lambda rdd: sc.parallelize(transform(rdd)))\n",
    "#kafka_rdd.pprint()\n",
    "ssc.start()\n",
    "#ssc.awaitTermination()"
   ]
  },
  {
   "cell_type": "code",
   "execution_count": 10,
   "metadata": {
    "collapsed": true
   },
   "outputs": [],
   "source": [
    "ssc.stop()"
   ]
  },
  {
   "cell_type": "code",
   "execution_count": null,
   "metadata": {
    "collapsed": true
   },
   "outputs": [],
   "source": []
  }
 ],
 "metadata": {
  "kernelspec": {
   "display_name": "Python 2",
   "language": "python",
   "name": "python2"
  },
  "language_info": {
   "codemirror_mode": {
    "name": "ipython",
    "version": 2
   },
   "file_extension": ".py",
   "mimetype": "text/x-python",
   "name": "python",
   "nbconvert_exporter": "python",
   "pygments_lexer": "ipython2",
   "version": "2.7.6"
  }
 },
 "nbformat": 4,
 "nbformat_minor": 2
}
