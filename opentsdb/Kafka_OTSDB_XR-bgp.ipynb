{
 "cells": [
  {
   "cell_type": "code",
   "execution_count": 20,
   "metadata": {
    "collapsed": true
   },
   "outputs": [],
   "source": [
    "import sys\n",
    "import os\n",
    "\n",
    "#sys.path.insert(0, '/opt/cloudera/parcels/CDH/lib/spark/python/')\n",
    "#sys.path.insert(0, '/opt/cloudera/parcels/CDH/lib/spark/python/lib/py4j-0.9-src.zip')\n",
    "\n",
    "os.environ[\"JAVA_HOME\"] = \"/usr/lib/jvm/java-8-oracle/jre\"\n",
    "os.environ[\"SPARK_HOME\"] = \"/opt/cloudera/parcels/CDH/lib/spark\"\n",
    "os.environ[\"PYLIB\"] = os.environ[\"SPARK_HOME\"] + \"/python/lib\"\n",
    "os.environ[\"PYSPARK_PYTHON\"] = \"/opt/cloudera/parcels/Anaconda/bin/python\"\n",
    "\n",
    "sys.path.insert(0, os.environ[\"PYLIB\"] +\"/py4j-0.9-src.zip\")\n",
    "sys.path.insert(0, os.environ[\"PYLIB\"] +\"/pyspark.zip\")"
   ]
  },
  {
   "cell_type": "code",
   "execution_count": 21,
   "metadata": {
    "collapsed": true
   },
   "outputs": [],
   "source": [
    "from pyspark.sql import SQLContext\n",
    "from pyspark import SparkContext\n",
    "from pyspark.streaming import StreamingContext\n",
    "from pyspark.streaming.kafka import KafkaUtils\n",
    "from pyspark.sql.functions import explode\n",
    "from __future__ import print_function\n",
    "import requests\n",
    "import json\n",
    "from collections import OrderedDict\n",
    "\n",
    "sc = SparkContext('local', 'test-spark0')\n",
    "ssc = StreamingContext(sc, 1)\n",
    "\n",
    "kafkaParams = {\"metadata.broker.list\": \"pnda14.gspie.lab:9092,pnda15.gspie.lab:9092,pnda13.gspie.lab:9092\", \"auto.offset.reset\": \"largest\"}\n",
    "topic = \"telemetry\"\n",
    "sqlContext = SQLContext(sc)\n",
    "\n",
    "kafkaStream = KafkaUtils.createDirectStream(ssc,[topic],kafkaParams)\n",
    "\n",
    "#kafka_rdd = kafkaStream.map(lambda (k,v): json.loads(v))\n",
    "kafka_rdd = kafkaStream.map(lambda v: v[1])"
   ]
  },
  {
   "cell_type": "code",
   "execution_count": 22,
   "metadata": {
    "collapsed": true
   },
   "outputs": [],
   "source": [
    "path = \"Cisco-IOS-XR-ipv4-bgp-oper:bgp/instances/instance/instance-active/default-vrf/process-info\"\n",
    "filter_list = [\n",
    "            'restart-count',\n",
    "            \"nexthop-count\",\n",
    "            \"neighbors-count-total\",\n",
    "            \"established-neighbors-count-total\",\n",
    "            \"neighbors-count\",\n",
    "            \"update-messages-received\",\n",
    "            \"configuration-items-processed\",\n",
    "            \"path-count\",\n",
    "            \"network-count\",\n",
    "            \"rib-connection-up-count\",\n",
    "            \"inbound-update-messages\"\n",
    "        ]"
   ]
  },
  {
   "cell_type": "code",
   "execution_count": 23,
   "metadata": {
    "collapsed": true
   },
   "outputs": [],
   "source": [
    "def transform(rdd):\n",
    "    json_data = sqlContext.jsonRDD(rdd)\n",
    "    df_select = json_data.select(\n",
    "        \"Telemetry.collection_end_time\",\n",
    "        \"Telemetry.collection_id\",\n",
    "        \"Telemetry.collection_start_time\",\n",
    "        \"Telemetry.encoding_path\",\n",
    "        \"Telemetry.msg_timestamp\",\n",
    "        \"Telemetry.node_id_str\",\n",
    "        \"Telemetry.subscription_id_str\",\n",
    "        \"Rows\",\n",
    "        \"Source\")\n",
    "    df_filtered = df_select.filter(df_select['encoding_path'] == path)\n",
    "    df_data = df_filtered.select(\"node_id_str\", \"subscription_id_str\", \"encoding_path\", \"Rows\")\n",
    "    for row in df_data.collect():\n",
    "        data = row.asDict()\n",
    "        tags_master = {\n",
    "            'NodeID' : data['node_id_str'],\n",
    "            'Subscription' : data['subscription_id_str'],\n",
    "            'EncodingPath' : data['encoding_path'].replace(\":\", \"-\")\n",
    "            }\n",
    "        contents = data['Rows']\n",
    "        for content in contents:\n",
    "            metrics = {\n",
    "                    \"metric\": 'metric',\n",
    "                    \"timestamp\": 'timestamp',\n",
    "                    \"value\": 'value',\n",
    "                    \"tags\": 'tags'\n",
    "                }\n",
    "            content_keys_master = {}\n",
    "            content_keys = content_keys_master.copy()\n",
    "            tags = tags_master.copy()\n",
    "            content_timestamp = content.asDict()[\"Timestamp\"]/1000\n",
    "            metrics['timestamp'] = content_timestamp\n",
    "            content_keys = content.asDict()[\"Keys\"].asDict()\n",
    "            for key in content_keys.keys():\n",
    "                if content_keys[key]:\n",
    "                    tags[key] = content_keys[key]\n",
    "            metrics['tags'] = tags\n",
    "            content_values = content.asDict()['Content'].asDict()\n",
    "            tsdb = []\n",
    "            metrics_loader_copy(metrics, content_values, filter_list, tsdb)\n",
    "            tsdb = json.loads(json.dumps(tsdb))\n",
    "            response = (tsdb_api_put(tsdb))\n",
    "            if response:\n",
    "                print(response)\n",
    "\n",
    "\n",
    "def metrics_loader_copy(metrics, content, filter_list, tsdb):\n",
    "    for key in content.keys():\n",
    "        if 'asDict' in dir(content[key]):\n",
    "            metrics_loader_copy(metrics, content[key].asDict(), filter_list, tsdb)\n",
    "        else:\n",
    "            if content[key] is not None:\n",
    "                if key in filter_list:\n",
    "                    metrics_copy = metrics.copy()\n",
    "                    metrics_copy['metric'] = key\n",
    "                    metrics_copy['value'] = content[key]\n",
    "                    tsdb.append(metrics_copy)                \n",
    "\n",
    "def tsdb_api_put(data):\n",
    "    if data:\n",
    "        host = 'gspie-opentsdb.cisco.com:4242'\n",
    "        openTsdbUrl = 'http://' + host + '/api/put/details'\n",
    "        request = requests.post(openTsdbUrl, json = data)\n",
    "        return request.text"
   ]
  },
  {
   "cell_type": "code",
   "execution_count": 24,
   "metadata": {},
   "outputs": [],
   "source": [
    "kafka_rdd.foreachRDD(lambda rdd: sc.parallelize(transform(rdd)))\n",
    "#kafka_rdd.pprint()\n",
    "ssc.start()\n",
    "#ssc.awaitTermination()"
   ]
  },
  {
   "cell_type": "code",
   "execution_count": 19,
   "metadata": {
    "collapsed": true
   },
   "outputs": [],
   "source": [
    "ssc.stop()"
   ]
  },
  {
   "cell_type": "code",
   "execution_count": null,
   "metadata": {
    "collapsed": true
   },
   "outputs": [],
   "source": []
  },
  {
   "cell_type": "code",
   "execution_count": null,
   "metadata": {
    "collapsed": true
   },
   "outputs": [],
   "source": []
  }
 ],
 "metadata": {
  "kernelspec": {
   "display_name": "Python 2",
   "language": "python",
   "name": "python2"
  },
  "language_info": {
   "codemirror_mode": {
    "name": "ipython",
    "version": 2
   },
   "file_extension": ".py",
   "mimetype": "text/x-python",
   "name": "python",
   "nbconvert_exporter": "python",
   "pygments_lexer": "ipython2",
   "version": "2.7.6"
  }
 },
 "nbformat": 4,
 "nbformat_minor": 2
}
